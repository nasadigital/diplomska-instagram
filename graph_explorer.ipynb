{
 "cells": [
  {
   "cell_type": "code",
   "execution_count": null,
   "metadata": {},
   "outputs": [],
   "source": [
    "import gensim\n",
    "from load_data import get_hashtags\n",
    "from load_data import load_media\n",
    "from load_data import load_users\n",
    "from load_data import train_test_pipeline\n",
    "from load_data import print_results\n",
    "import random\n",
    "\n",
    "random.seed(4)"
   ]
  },
  {
   "cell_type": "markdown",
   "metadata": {},
   "source": [
    "Load data sets."
   ]
  },
  {
   "cell_type": "code",
   "execution_count": null,
   "metadata": {},
   "outputs": [],
   "source": [
    "graph = load_users('../users.csv')\n",
    "media, hashtags = load_media('../media.csv')"
   ]
  },
  {
   "cell_type": "markdown",
   "metadata": {},
   "source": [
    "Generate embeddings using word2vec algorithm. Only do this if you have not generated a model before."
   ]
  },
  {
   "cell_type": "code",
   "execution_count": null,
   "metadata": {},
   "outputs": [],
   "source": [
    "# generate_embeddings(('../media.csv', './tag2vec64dIterator.model', threads=1)\n",
    "# split_nway('../mini_media.csv', './mini_s10.dat')\n",
    "# generate_embeddings('../mini_media.csv', './tag2vec_mini.model', dist_path='../mini_s10.txt', cur_set=0)\n",
    "# eval_predictions('../mini_media.csv', '../mini_s10.txt', './tag2vec_mini.model', 0)\n",
    "# train_test_pipeline('../media.csv', './dist.dat', './128d', 10,\n",
    "#                     result_path='./result128d.txt', dim=128)\n",
    "# train_test_pipeline('../media.csv', './dist.dat', './256d', 10,\n",
    "#                     result_path='./result256d.txt', dim=256)\n",
    "train_test_pipeline('../media.csv', './dist.dat', './mock', 10,\n",
    "                    result_path='./mockresult.txt', dim=10, epochs=1)"
   ]
  },
  {
   "cell_type": "markdown",
   "metadata": {},
   "source": [
    "Load embeddings in memory."
   ]
  },
  {
   "cell_type": "code",
   "execution_count": null,
   "metadata": {},
   "outputs": [],
   "source": [
    "model = gensim.models.Word2Vec.load('./64d50e000-010.model')"
   ]
  },
  {
   "cell_type": "code",
   "execution_count": null,
   "metadata": {},
   "outputs": [],
   "source": [
    "['#{0}'.format(i[0]) for i in model.wv.most_similar(positive=['inmyglasstonight'], topn=30)]\n"
   ]
  },
  {
   "cell_type": "code",
   "execution_count": null,
   "metadata": {},
   "outputs": [],
   "source": [
    "[\n",
    " model.wv.similarity(w1=\"instagood\",w2=\"instamood\"),\n",
    " model.wv.similarity(w1=\"christmas\",w2=\"xmas\"),\n",
    " model.wv.similarity(w1=\"rap\",w2=\"rnb\"),\n",
    " model.wv.similarity(w1=\"dad\",w2=\"father\"),\n",
    " model.wv.similarity(w1=\"netflix\",w2=\"cats\"),\n",
    " model.wv.similarity(w1=\"nofilter\",w2=\"sanfrancisco\"),\n",
    " model.wv.similarity(w1=\"instagood\",w2=\"garden\"),\n",
    "]"
   ]
  },
  {
   "cell_type": "code",
   "execution_count": null,
   "metadata": {},
   "outputs": [],
   "source": [
    " model.wv.most_similar(positive=[], negative=['nikon'], topn=10)"
   ]
  },
  {
   "cell_type": "code",
   "execution_count": null,
   "metadata": {},
   "outputs": [],
   "source": [
    "posts = [\n",
    "'''altimqa Takie tam 🏝️🌞🌊\n",
    "#vacation #holiday #holidays #chill #chillout #fuertaventura #spain #nikon #nikonphotography #corralejo #ocean #goodday #happy #happytime #instatravel #travel #worldtraveler #traveler #adventure #adventuretime #traveling #d5500''',\n",
    "'''marianamonkey #beach #ocean #portugal #travel #europe #instapic #instagram #instadaily #beautifuldestinations #nature #landscape #photo #instafashion #photographer #view #amazing #instalike#smile #girl #hair #beachbody #bikini #fitness #instafit #sun #dress #naturalbeauty #blue #jeans''',\n",
    "'''rbariquelo #city #cwb #curitiba #curitibacool #citygram #city_explore #architecture #urbanxplore #skyline''',\n",
    "'''#parquecascavel #buildings #jardimatlantico #towers #cityscape #landscape #urban #urbanphotography #nightfall #dusk #cityphotography #streetphotography #goiania #architectureporn #arquitetura #architecturephotography #architecture #engenhariacivil #civilengineering #brazil #igersbrasil #igersgoiania'''\n",
    "]\n",
    "for i in range(len(posts)):\n",
    "    for j in range(len(posts)):\n",
    "        print('post {0} and post {1}: {2:.10f}'.format(i, j, model.wv.wmdistance(get_hashtags(posts[i], model), get_hashtags(posts[j], model)), [t for t in get_hashtags(posts[i], model) if t in get_hashtags(posts[j], model)]))"
   ]
  },
  {
   "cell_type": "code",
   "execution_count": null,
   "metadata": {},
   "outputs": [],
   "source": []
  }
 ],
 "metadata": {
  "kernelspec": {
   "display_name": "Python 3",
   "language": "python",
   "name": "python3"
  },
  "language_info": {
   "codemirror_mode": {
    "name": "ipython",
    "version": 3
   },
   "file_extension": ".py",
   "mimetype": "text/x-python",
   "name": "python",
   "nbconvert_exporter": "python",
   "pygments_lexer": "ipython3",
   "version": "3.6.4"
  }
 },
 "nbformat": 4,
 "nbformat_minor": 2
}
